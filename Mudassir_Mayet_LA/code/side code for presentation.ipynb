{
 "cells": [
  {
   "cell_type": "code",
   "execution_count": 1,
   "metadata": {},
   "outputs": [],
   "source": [
    "#extra\n",
    "#pretty_plots(8,100, \"Percentage of ACT Particiaption\",\"% Participation\", \"\",merged_dataframe[\"Participation_act\"])\n",
    "\n",
    "# fig, ax = plt.subplots(1, 1, figsize=(10,5))\n",
    "# ax.set_xlabel('Percentage of ACT Particiaption', fontsize=16)\n",
    "# ax.set_ylabel('Frequency', fontsize=16)\n",
    "# ax.plot(merged_dataframe[\"Participation_act\"], lw=4, color='darkblue')\n",
    "# plt.title(\"Histogram of Percentage of ACT Particiaption\", fontsize=20)\n",
    "# plt.figure()"
   ]
  },
  {
   "cell_type": "markdown",
   "metadata": {},
   "source": [
    "sat_mandatory = [\"Colorado\",\"Connecticut\",\"\"]\n",
    "act_mandatory = []\n",
    "must_choose = [\"Ohio\", \"Tennessee\", \"Idaho\"]\n",
    "sat_free = [\"Rhode Island\", \"Maine\", \"Idaho\", \"District of Columbia\"]\n",
    "\n",
    "free_df = merged_dataframe.loc[merged_dataframe['State'].isin(sat_free)]#[[\"Participation_act\",\"Participation_sat\"]]\n",
    "act_for_sat_free = list(free_df[\"Participation_act\"])\n",
    "\n",
    "N = 4\n",
    "act_for_sat_free = list(free_df[\"Participation_act\"])\n",
    "sat_for_sat_free = list(free_df[\"Participation_sat\"])\n",
    "ind = np.arange(N)\n",
    "width= .5\n",
    "\n",
    "p1 = plt.bar(ind, sat_for_sat_free, width)\n",
    "p2 = plt.bar(ind, act_for_sat_free, width, color=\"c\")\n",
    "\n",
    "plt.ylabel('% Participation',fontsize=30)\n",
    "plt.title('Higher SAT Ptcp when FREE',fontsize=45)\n",
    "plt.xticks(ind, sat_free,fontsize=30)\n",
    "plt.yticks(np.arange(0, 81, 10))\n",
    "plt.legend((p1[0], p2[0]), ('SAT', 'ACT'),fontsize=30)\n",
    "\n",
    "a = plt.gcf()\n",
    "a.set_size_inches(32, 18)\n",
    "\n",
    "plt.show()\n",
    "\n",
    "\n",
    "taken = set([\"Alabama\", \"Arkansas\", \"Colorado\", \"Kentucky\", \"Louisiana\", \"Minnesota\", \"Mississippi\", \"Missouri\", \"Montana\", \"Nevada\", \"North\", \"Carolina\", \"Oklahoma\", \"South\", \"Carolina\", \"Tennessee\", \"Utah\", \"Wisconsin\", \"Wyoming\", \"Connecticut\", \"Delaware\", \"Idaho\", \"Illinois\", \"Michigan\", \"New Hampshire\", \"Ohio\", \"Rhode Island\", \"Tennessee\"])\n",
    "\n",
    "all = set(list(merged_dataframe[\"State\"][:50]))\n",
    "\n",
    "open_df = merged_dataframe.loc[merged_dataframe['State'].isin(left)]#[[\"Participation_act\",\"Participation_sat\"]]\n",
    "\n",
    "open_df.query(\"Participation_sat < Participation_act or Participation_sat < 50\").count()"
   ]
  }
 ],
 "metadata": {
  "kernelspec": {
   "display_name": "Python 3",
   "language": "python",
   "name": "python3"
  },
  "language_info": {
   "codemirror_mode": {
    "name": "ipython",
    "version": 3
   },
   "file_extension": ".py",
   "mimetype": "text/x-python",
   "name": "python",
   "nbconvert_exporter": "python",
   "pygments_lexer": "ipython3",
   "version": "3.6.5"
  }
 },
 "nbformat": 4,
 "nbformat_minor": 2
}
