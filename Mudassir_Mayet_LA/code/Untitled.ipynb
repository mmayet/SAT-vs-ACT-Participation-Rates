{
 "cells": [
  {
   "cell_type": "code",
   "execution_count": null,
   "metadata": {},
   "outputs": [],
   "source": [
    "#extra\n",
    "#pretty_plots(8,100, \"Percentage of ACT Particiaption\",\"% Participation\", \"\",merged_dataframe[\"Participation_act\"])\n",
    "\n",
    "fig, ax = plt.subplots(1, 1, figsize=(10,5))\n",
    "ax.set_xlabel('Percentage of ACT Particiaption', fontsize=16)\n",
    "ax.set_ylabel('Frequency', fontsize=16)\n",
    "ax.plot(merged_dataframe[\"Participation_act\"], lw=4, color='darkblue')\n",
    "plt.title(\"Histogram of Percentage of ACT Particiaption\", fontsize=20)\n",
    "plt.figure()"
   ]
  }
 ],
 "metadata": {
  "kernelspec": {
   "display_name": "Python 3",
   "language": "python",
   "name": "python3"
  },
  "language_info": {
   "codemirror_mode": {
    "name": "ipython",
    "version": 3
   },
   "file_extension": ".py",
   "mimetype": "text/x-python",
   "name": "python",
   "nbconvert_exporter": "python",
   "pygments_lexer": "ipython3",
   "version": "3.6.5"
  }
 },
 "nbformat": 4,
 "nbformat_minor": 2
}
